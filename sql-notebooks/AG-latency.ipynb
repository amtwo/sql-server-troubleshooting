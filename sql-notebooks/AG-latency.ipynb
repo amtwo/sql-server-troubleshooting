{
    "metadata": {
        "kernelspec": {
            "name": "SQL",
            "display_name": "SQL",
            "language": "sql"
        },
        "language_info": {
            "name": "sql",
            "version": ""
        }
    },
    "nbformat_minor": 2,
    "nbformat": 4,
    "cells": [
        {
            "cell_type": "markdown",
            "source": [
                "# Availability Group Latency Troubleshooting\r\n",
                "\r\n",
                "## Overview\r\n",
                "* AG Send/Redo overview\r\n",
                "* Determine if latency is in Send Queue, or Redo Queue\r\n",
                "* Check for open transactions, including idle sessions\r\n",
                "* Check for long-running active queries\r\n",
                "* Check Version Store\r\n",
                "* Check for parallel redo"
            ],
            "metadata": {
                "azdata_cell_guid": "ab97fa97-4f28-4cc1-bf8d-455aacbabba2"
            }
        },
        {
            "cell_type": "markdown",
            "source": [
                "### AG Send/Redo Overview\r\n",
                "\r\n",
                "Availability Group synchronization works in two separate parts:\r\n",
                "\r\n",
                "1. First, when a transaction happens on Primary, the transaction is written to the Transaction Log on Primary. \r\n",
                "  * If the AG replica is in synchronous commit mode, the log blocks are synchronously copied to the secondary replica before the transaction is considered committed. \r\n",
                "  * If a synchronous secondary is unavailable (offline, network issues, etc), the replica will seamlessly transition to asynchronous to preserve performance. There is no warning or indication of this other than an increased send queue.\r\n",
                "  * If the AG replica is in asynchronous commit mode, the transaction is considered committed as soon as the log is hardened locally, and log blocks are asynchronously copied to the secondary replica.\r\n",
                "  * Unsent transactions are represented as the \"Send Queue\" on DMVs & SQL Server instrumentation\r\n",
                "1. Second, the transaction log on Secondary is replayed to roll forward or roll back transactions. \r\n",
                "  * Redo of transactions is **ALWAYS** asynchronous.\r\n",
                "  * Redo uses the same redo mechanism as crash recovery (`DB STARTUP`), which is similar to a transaction log restore. It reads from the transaction log, and writes the corresponding changes to the data files.\r\n",
                "  * Redo is usually single-threaded. SQL Server does support parallel redo, but only for a small number of databases (up to 6). If the AG has many databases, only a few will benefit from parallel redo. Controlling which DBs will benefit from parallel redo is difficult (practically impossible), so generally assume that any given database will only have single-threaded redo.\r\n",
                "  * Transaction log needing redo is represented as the \"Redo Queue\" on DMVs and SQL Server instrumentation."
            ],
            "metadata": {
                "azdata_cell_guid": "c8a29e04-c625-4039-a7f2-43fa25ca652a"
            }
        },
        {
            "cell_type": "markdown",
            "source": [
                "### Check AG Latency at Primary\r\n",
                "\r\n",
                "Run this on the Primary Replica, in order to get info about **all** of the replicas. \r\n",
                "\r\n",
                "Running this on a secondary replica will give you information **only** about that secondary replia. \r\n",
                "\r\n",
                "▶ Run this on **PRIMARY**"
            ],
            "metadata": {
                "azdata_cell_guid": "1138a15a-5087-4c5f-9489-39c2b0e5f64e"
            }
        },
        {
            "cell_type": "code",
            "source": [
                "-- ▶ Run this on **PRIMARY**\r\n",
                "SET NOCOUNT ON;\r\n",
                "SET TRANSACTION ISOLATION LEVEL READ UNCOMMITTED;\r\n",
                "\r\n",
                "SELECT \r\n",
                "\t--AG info\r\n",
                "    AGName                          = ag.name, \r\n",
                "\tReplicaServer                   = ar.replica_server_name, \r\n",
                "\tDbName                          = adc.database_name, \r\n",
                "\tIsLocal                         = drs.is_local, \r\n",
                "\tIsPrimary                       = drs.is_primary_replica, \r\n",
                "\t-- State Info\r\n",
                "    SynchronizationState            = drs.synchronization_state_desc, \r\n",
                "\tSynchronizationHealthState      = drs.synchronization_health_desc, \r\n",
                "\t-- Queue Size & rates\r\n",
                "    SendQueueSize                   = drs.log_send_queue_size,\r\n",
                "    RedoQueueSize                   = drs.redo_queue_size, \r\n",
                "\tSendRateKb                      = drs.log_send_rate, \r\n",
                "\tRedoRateKb                      = drs.redo_rate, \r\n",
                "\t-- Last ____ Time\r\n",
                "    LastSentTime                    = drs.last_sent_time, \r\n",
                "\tLastRedoTime                    = drs.last_redone_time, \r\n",
                "\tLastReceivedTime                = drs.last_received_time, \r\n",
                "\tLastHardenedTime                = drs.last_hardened_time, \r\n",
                "\tLastCommitTime                  = drs.last_commit_time, \r\n",
                "\t-- LSN info\r\n",
                "    RecoveryLSN                     = drs.recovery_lsn, \r\n",
                "\tTruncationLSN                   = drs.truncation_lsn, \r\n",
                "\tLastSentLSN                     = drs.last_sent_lsn, \r\n",
                "\tLastReceivedLSN                 = drs.last_received_lsn, \r\n",
                "\tLastHardenedLSN                 = drs.last_hardened_lsn, \r\n",
                "\tLastRedoneLSN                   = drs.last_redone_lsn, \r\n",
                "\tEndOfLogLSN                     = drs.end_of_log_lsn, \r\n",
                "\tLastCommitLSN                   = drs.last_commit_lsn,\r\n",
                "    --Oh yeah, filestream, too\r\n",
                "\tFileStreamSendRate              = drs.filestream_send_rate\r\n",
                "FROM sys.dm_hadr_database_replica_states AS drs\r\n",
                "JOIN sys.availability_databases_cluster AS adc \r\n",
                "\tON drs.group_id = adc.group_id AND drs.group_database_id = adc.group_database_id\r\n",
                "JOIN sys.availability_groups AS ag\r\n",
                "\tON ag.group_id = drs.group_id\r\n",
                "JOIN sys.availability_replicas AS ar \r\n",
                "\tON drs.group_id = ar.group_id AND drs.replica_id = ar.replica_id\r\n",
                "ORDER BY \r\n",
                "\t-- ag.name, ar.replica_server_name, adc.database_name;\r\n",
                "    drs.log_send_queue_size + drs.redo_queue_size DESC;"
            ],
            "metadata": {
                "azdata_cell_guid": "5695d045-758e-4033-a1a2-0a45501a1f1e",
                "tags": [
                    "hide_input"
                ]
            },
            "outputs": [],
            "execution_count": null
        },
        {
            "cell_type": "markdown",
            "source": [
                "### Alternate check for Send Queue size\r\n",
                "\r\n",
                "Sometimes the Perfmon counters & DMVs don't align 100%. This query will provide the higher of the two values.\r\n",
                "\r\n",
                "▶ Run this on **PRIMARY**"
            ],
            "metadata": {
                "azdata_cell_guid": "89f4c741-6163-4780-8488-75767953e880"
            }
        },
        {
            "cell_type": "code",
            "source": [
                "-- ▶ Run this on **PRIMARY**\r\n",
                "SET NOCOUNT ON;\r\n",
                "SET TRANSACTION ISOLATION LEVEL READ UNCOMMITTED;\r\n",
                "\r\n",
                "WITH SendQueue AS (\r\n",
                "    SELECT  ServerName  = rcs.replica_server_name,\r\n",
                "            DbName      = db_name( drs.database_id), \r\n",
                "            UnsentLogKb = COALESCE(drs.log_send_queue_size,0)\r\n",
                "    FROM sys.dm_hadr_database_replica_states drs\r\n",
                "    JOIN sys.dm_hadr_availability_replica_cluster_states rcs ON rcs.replica_id = drs.replica_id\r\n",
                "    WHERE drs.last_sent_time IS NOT NULL\r\n",
                "    UNION ALL\r\n",
                "    SELECT  ServerName  = @@SERVERNAME,\r\n",
                "            DbName      = LTRIM(RTRIM(instance_name)), \r\n",
                "            UnsentLogKb = cntr_value \r\n",
                "    FROM sys.[dm_os_performance_counters]  \r\n",
                "    WHERE object_name = 'SQLServer:Database Replica'\r\n",
                "    AND counter_name  = 'Log Send Queue'\r\n",
                ")\r\n",
                "SELECT ServerName, DbName, MAX(UnsentLogKb)\r\n",
                "FROM SendQueue\r\n",
                "GROUP BY ServerName, DbName\r\n",
                "ORDER BY UnsentLogKb DESC;"
            ],
            "metadata": {
                "azdata_cell_guid": "f117d3d8-e287-4215-8d2e-42cd7d9d01f8",
                "tags": [
                    "hide_input"
                ]
            },
            "outputs": [],
            "execution_count": null
        },
        {
            "cell_type": "markdown",
            "source": [
                "### Check for open transactions on Primary & Secondary (including idle sessions)\r\n",
                "\r\n",
                "Open transactions can affect both Send & Redo. \r\n",
                "\r\n",
                "Open transactions that exist on either Primary or Secondary can affect the Redo & Send Queues, so you must check for open transactions on BOTH sides of the servers experiencing latency. \r\n",
                "\r\n",
                "▶ Run this on **PRIMARY AND SECONDARY** "
            ],
            "metadata": {
                "azdata_cell_guid": "424c13cb-89c1-414c-8c1e-4ec43b5f7358"
            }
        },
        {
            "cell_type": "code",
            "source": [
                "-- ▶ Run this on **PRIMARY AND SECONDARY**\r\n",
                "\r\n",
                "DECLARE\r\n",
                "    @DurationThreshold smallint = 1,\r\n",
                "    @OnlySleepingSessions bit = 0\r\n",
                "\r\n",
                "/*************************************************************************************************\r\n",
                "AUTHOR: Andy Mallon\r\n",
                "CREATED: 20141218\r\n",
                "    This procedure checks for locking exceeding a duration of @DurationThreshold.\r\n",
                "    Query to identify locks is based on query from Paul Randal:\r\n",
                "    https://www.sqlskills.com/blogs/paul/script-open-transactions-with-text-and-plans/\r\n",
                "\r\n",
                "PARAMETERS\r\n",
                "* @DurationThreshold - minutes - Alters when database locks have been holding log space\r\n",
                "                       for this many minutes.\r\n",
                "* @OnlySleepingSessions - bit - Only show sessions that are sleeping\r\n",
                "**************************************************************************************************\r\n",
                "MODIFICATIONS:\r\n",
                "    20141222 - AM2 - Parse out the Hex jobid in ProgramName & turn into the Job Name.\r\n",
                "    20141229 - AM2 - Parse out current SqlStatement from the complete SqlText.\r\n",
                "                   - Start including SqlStatement in the email instead of SqlText\r\n",
                "             - I now have 3 different answers to \"What is the current SQL?\"\r\n",
                "               1) SqlText - This is the full output from sys.dm_exec_sql_text(). \r\n",
                "                          - If a procedure is running, this will be the CREATE PROCEDURE statement.\r\n",
                "               2) SqlStatement - Uses Statement offset values to determine specific line from SqlText\r\n",
                "                          - If a procedure is running, this is the specific statement within that proc\r\n",
                "               3) InputBuffer - This is the output from DBCC INPUTBUFFER\r\n",
                "                          - If a procedure is running, this is the EXEC statement\r\n",
                "    20190401 - AM2 - Add filter to only include sleeping sessions in results\r\n",
                "**************************************************************************************************\r\n",
                "    Andy Mallon ● am2.co\r\n",
                "*************************************************************************************************/\r\n",
                "SET NOCOUNT ON;\r\n",
                "SET TRANSACTION ISOLATION LEVEL READ UNCOMMITTED;\r\n",
                "\r\n",
                "--If we're in Debug mode, ignore @DurationThreshold parameter, Always use 1 minute.\r\n",
                "DECLARE @Id int = 1,\r\n",
                "        @Spid int = 0,\r\n",
                "        @JobIdHex nvarchar(34),\r\n",
                "        @JobName nvarchar(256),\r\n",
                "        @Sql nvarchar(max),\r\n",
                "        @EmailFrom varchar(max),\r\n",
                "        @EmailBody nvarchar(max),\r\n",
                "        @EmailSubject nvarchar(255);\r\n",
                "\r\n",
                "CREATE TABLE #OpenTrans (\r\n",
                "    Id int identity(1,1) PRIMARY KEY,\r\n",
                "    Spid smallint,\r\n",
                "    BlockingSpid smallint,\r\n",
                "    TransactionLengthMinutes AS DATEDIFF(mi,TransactionStart,GETDATE()),\r\n",
                "    DbName sysname,\r\n",
                "    HostName nvarchar(128),\r\n",
                "    ProgramName nvarchar(128),\r\n",
                "    LoginName nvarchar(128),\r\n",
                "    LoginTime datetime2(3),\r\n",
                "    LastRequestStart datetime2(3),\r\n",
                "    LastRequestEnd datetime2(3),\r\n",
                "    TransactionCnt int,\r\n",
                "    TransactionStart datetime2(3),\r\n",
                "    TransactionState tinyint,\r\n",
                "    Command nvarchar(32),\r\n",
                "    WaitTime int,\r\n",
                "    WaitResource nvarchar(256),\r\n",
                "    SqlText nvarchar(max),\r\n",
                "    SqlStatement nvarchar(max),\r\n",
                "    InputBuffer nvarchar(4000),\r\n",
                "    SessionInfo xml\r\n",
                "    );\r\n",
                "\r\n",
                "CREATE TABLE #InputBuffer (\r\n",
                "    EventType nvarchar(30),\r\n",
                "    Params smallint,\r\n",
                "    EventInfo nvarchar(4000)\r\n",
                "    );\r\n",
                "\r\n",
                "\r\n",
                "--Grab all sessions with open transactions\r\n",
                "\r\n",
                "INSERT INTO #OpenTrans (Spid, BlockingSpid, DbName, HostName, ProgramName, LoginName, LoginTime, LastRequestStart, \r\n",
                "                    LastRequestEnd, TransactionCnt, TransactionStart, TransactionState, Command, WaitTime, WaitResource, SqlText, SqlStatement)\r\n",
                "SELECT s.session_id AS Spid, \r\n",
                "       r.blocking_session_id AS BlockingSpid,\r\n",
                "       COALESCE(db_name(dt.database_id),CAST(dt.database_id as nvarchar(10))) AS DbName,\r\n",
                "       s.host_name AS HostName,\r\n",
                "       s.program_name AS ProgramName,\r\n",
                "       s.login_name AS LoginName,\r\n",
                "       s.login_time AS LoginTime,\r\n",
                "       s.last_request_start_time AS LastRequestStart,\r\n",
                "       s.last_request_end_time AS LastRequestEnd,\r\n",
                "       -- Need to use sysprocesses for now until we're fully on 2012/2014\r\n",
                "       (SELECT TOP 1 sp.open_tran FROM master.sys.sysprocesses sp WHERE sp.spid = s.session_id) AS TransactionCnt,\r\n",
                "       --s.open_transaction_count AS TransactionCnt,\r\n",
                "       COALESCE(dt.database_transaction_begin_time,s.last_request_start_time) AS TransactionStart,\r\n",
                "       dt.database_transaction_state AS TransactionState,\r\n",
                "       r.command AS Command,\r\n",
                "       r.wait_time AS WaitTime,\r\n",
                "       r.wait_resource AS WaitResource,\r\n",
                "       COALESCE(t.text,'') AS SqlText,\r\n",
                "       COALESCE(SUBSTRING(t.text, (r.statement_start_offset/2)+1, (\r\n",
                "                (CASE r.statement_end_offset\r\n",
                "                   WHEN -1 THEN DATALENGTH(t.text)\r\n",
                "                   ELSE r.statement_end_offset\r\n",
                "                 END - r.statement_start_offset)\r\n",
                "              /2) + 1),'') AS SqlStatement\r\n",
                "FROM sys.dm_exec_sessions s\r\n",
                "JOIN sys.dm_tran_session_transactions st ON st.session_id = s.session_id\r\n",
                "JOIN sys.dm_tran_database_transactions dt ON dt.transaction_id = st.transaction_id\r\n",
                "LEFT JOIN sys.dm_exec_requests r ON r.session_id = s.session_id\r\n",
                "OUTER APPLY sys.dm_exec_sql_text (r.sql_handle) t\r\n",
                "WHERE dt.database_transaction_state NOT IN (3) -- 3 means transaction has been initialized but has not generated any log records. Ignore it\r\n",
                "AND (@OnlySleepingSessions = 0 OR s.status = 'sleeping')\r\n",
                "AND COALESCE(dt.database_transaction_begin_time,s.last_request_start_time) < DATEADD(mi,-1*@DurationThreshold ,GETDATE());\r\n",
                "\r\n",
                "-- Grab the input buffer for all sessions, too.\r\n",
                "WHILE EXISTS (SELECT 1 FROM #OpenTrans WHERE InputBuffer IS NULL)\r\n",
                "BEGIN\r\n",
                "    TRUNCATE TABLE #InputBuffer;\r\n",
                "    \r\n",
                "    SELECT TOP 1 @Spid = Spid, @Id = Id\r\n",
                "    FROM #OpenTrans\r\n",
                "    WHERE InputBuffer IS NULL;\r\n",
                "\r\n",
                "    SET @Sql = 'DBCC INPUTBUFFER (' + CAST(@Spid AS varchar(10)) + ');';\r\n",
                "\r\n",
                "    BEGIN TRY\r\n",
                "        INSERT INTO #InputBuffer\r\n",
                "        EXEC sp_executesql @sql;\r\n",
                "    END TRY\r\n",
                "    BEGIN CATCH\r\n",
                "        PRINT 'InputBuffer Failed';\r\n",
                "    END CATCH\r\n",
                "\r\n",
                "    UPDATE b\r\n",
                "    SET InputBuffer = COALESCE((SELECT TOP 1 EventInfo FROM #InputBuffer),'')\r\n",
                "    FROM #OpenTrans b\r\n",
                "    WHERE ID = @Id;\r\n",
                "END;\r\n",
                "\r\n",
                "--Convert Hex job_ids for SQL Agent jobs to names.\r\n",
                "WHILE EXISTS(SELECT 1 FROM #OpenTrans WHERE ProgramName LIKE 'SQLAgent - TSQL JobStep (Job 0x%')\r\n",
                "BEGIN\r\n",
                "    SELECT @JobIdHex = '', @JobName = '';\r\n",
                "\r\n",
                "    SELECT TOP 1 @ID = ID, \r\n",
                "            @JobIdHex =  SUBSTRING(ProgramName,30,34)\r\n",
                "    FROM #OpenTrans\r\n",
                "    WHERE ProgramName LIKE 'SQLAgent - TSQL JobStep (Job 0x%';\r\n",
                "\r\n",
                "    SELECT @Sql = N'SELECT @JobName = name FROM msdb.dbo.sysjobs WHERE job_id = ' + @JobIdHex;\r\n",
                "    EXEC sp_executesql @Sql, N'@JobName nvarchar(256) OUT', @JobName = @JobName OUT;\r\n",
                "\r\n",
                "    UPDATE b\r\n",
                "    SET ProgramName = LEFT(REPLACE(ProgramName,@JobIdHex,@JobName),128)\r\n",
                "    FROM #OpenTrans b\r\n",
                "    WHERE ID = @Id;\r\n",
                "END;\r\n",
                "\r\n",
                "-- Populate SessionInfo column with HTML details for sending email\r\n",
                "-- Since there's a bunch of logic here, code is more readable doing this separate than mashing it in with the rest of HTML email creation\r\n",
                "UPDATE t\r\n",
                "SET SessionInfo = (SELECT TransactionState =\r\n",
                "                              CASE TransactionState\r\n",
                "                                            WHEN 1 THEN 'The transaction has not been initialized.'\r\n",
                "                                            WHEN 3 THEN 'The transaction has been initialized but has not generated any log records.' -- We don�t alert on this status\r\n",
                "                                            WHEN 4 THEN 'The transaction has generated log records.'\r\n",
                "                                            WHEN 5 THEN 'The transaction has been prepared.'\r\n",
                "                                            WHEN 10 THEN 'The transaction has been committed.'\r\n",
                "                                            WHEN 11 THEN 'The transaction has been rolled back.'\r\n",
                "                                            WHEN 12 THEN 'The transaction is being committed. In this state the log record is being generated, but it has not been materialized or persisted.'\r\n",
                "                                            ELSE CAST(TransactionState as varchar)\r\n",
                "                                      END,\r\n",
                "                            TransactionLengthMinutes = CONVERT(varchar(20),TransactionLengthMinutes,20),\r\n",
                "                            SessionID = Spid,\r\n",
                "                            DbName,\r\n",
                "                            LoginName,\r\n",
                "                            HostName,\r\n",
                "                            DbName,\r\n",
                "                            WaitResource,\r\n",
                "                            LoginTime = CONVERT(varchar(20),LoginTime,20),\r\n",
                "                            LastRequest = CONVERT(varchar(20),LastRequestStart,20),\r\n",
                "                            ProgramName\r\n",
                "                    FROM #OpenTrans t2 \r\n",
                "                    WHERE t2.id = t.id\r\n",
                "                    FOR XML PATH ('Transaction') )\r\n",
                "FROM #OpenTrans t;\r\n",
                "\r\n",
                "\r\n",
                "--output results in debug mode:\r\n",
                "    IF NOT EXISTS (SELECT 1 FROM #OpenTrans)\r\n",
                "        SELECT 'No Open Transactions longer than ' + CAST(@DurationThreshold AS varchar(10)) + ' minutes exist' AS OpenTransactions;\r\n",
                "    ELSE\r\n",
                "    BEGIN\r\n",
                "        SELECT * FROM #OpenTrans;\r\n",
                "    END;\r\n",
                "\r\n",
                "GO\r\n",
                "\r\n",
                ""
            ],
            "metadata": {
                "azdata_cell_guid": "9e67f1b0-2fd2-42af-8e05-86cd466ab37c",
                "tags": [
                    "hide_input"
                ]
            },
            "outputs": [],
            "execution_count": null
        },
        {
            "cell_type": "markdown",
            "source": [
                "### Check for long-running active queries\r\n",
                "\r\n",
                "Like long-running transactions, long-running queries can affect both Send & Redo.\r\n",
                "\r\n",
                "Long-running queries that exist on either Primary or Secondary can affect the Redo & Send Queues, so you must check for long-running queries on BOTH sides of the servers experiencing latency.\r\n",
                "\r\n",
                "▶ Run this on **PRIMARY AND SECONDARY**"
            ],
            "metadata": {
                "azdata_cell_guid": "e3505691-da95-4469-9faf-6bf487ab6f46"
            }
        },
        {
            "cell_type": "code",
            "source": [
                "-- ▶ Run this on **PRIMARY AND SECONDARY**\r\n",
                "\r\n",
                "EXEC sp_whoisactive;"
            ],
            "metadata": {
                "azdata_cell_guid": "ed33a570-929c-4a08-a2fb-9d4c28d9b1a3"
            },
            "outputs": [],
            "execution_count": null
        },
        {
            "cell_type": "markdown",
            "source": [
                "### Check for bloated Version Store\r\n",
                "\r\n",
                "Long-running active queries, or open transactions (evaluated in the prior two queries) will cause the Version Store in `tempdb` to become bloated. When the Version Store becomes very large, this can cause instance-wide performance issues.\r\n",
                "\r\n",
                " ▶ Run this on **PRIMARY AND SECONDARY**"
            ],
            "metadata": {
                "azdata_cell_guid": "d1b8025e-6e0d-448e-b70c-b5e4b2bd9fae"
            }
        },
        {
            "cell_type": "code",
            "source": [
                "-- ▶ Run this on **PRIMARY AND SECONDARY**\r\n",
                "\r\n",
                "SET NOCOUNT ON;\r\n",
                "SET TRANSACTION ISOLATION LEVEL READ UNCOMMITTED;\r\n",
                "\r\n",
                "SELECT\r\n",
                "    PerfmonCounter      = c.counter_name,\r\n",
                "    CounterValue        = c.cntr_value\r\n",
                "FROM sys.dm_os_performance_counters AS c\r\n",
                "WHERE c.counter_name LIKE 'Version%'\r\n",
                "AND c.object_name = 'SQLServer:Transactions';\r\n",
                "\r\n",
                "SELECT \r\n",
                "\tLongestTransactionRunTime       = CONVERT(int,cntr_value),\r\n",
                "\tEstimatedTransactionStartTime   = DATEADD(SECOND,COALESCE(CONVERT(int,cntr_value),0),GETDATE())\r\n",
                "FROM sys.dm_os_performance_counters\r\n",
                "WHERE counter_name = 'Longest Transaction Running Time';\r\n",
                ""
            ],
            "metadata": {
                "azdata_cell_guid": "64dc4bfb-ba36-4486-99ac-16008a7b1978",
                "tags": [
                    "hide_input"
                ]
            },
            "outputs": [],
            "execution_count": null
        },
        {
            "cell_type": "markdown",
            "source": [
                "### TempDB space usage\r\n",
                "\r\n",
                "In addition to viewing Version Store size by viewing Perfmon counters, you can look at TempDB allocation space.\r\n",
                "\r\n",
                "Here, we can see how much space is allocated to Version Store, as well as user objects (ex `#temp` tables), internal objects (ex spools, hash tables), and other allocation information.\r\n",
                "\r\n",
                " ▶ Run this on **PRIMARY AND SECONDARY**"
            ],
            "metadata": {
                "azdata_cell_guid": "5832e443-0241-4443-8475-29696e14696d"
            }
        },
        {
            "cell_type": "code",
            "source": [
                "-- ▶ Run this on **PRIMARY AND SECONDARY**\r\n",
                "\r\n",
                "USE tempdb\r\n",
                "SET NOCOUNT ON;\r\n",
                "SET TRANSACTION ISOLATION LEVEL READ UNCOMMITTED;\r\n",
                "\r\n",
                "SELECT\r\n",
                "    VersionStoreGB      = SUM(fsu.version_store_reserved_page_count)  *8.0/1024/1024,\r\n",
                "    UserObjectsGB       = SUM(fsu.user_object_reserved_page_count)    *8.0/1024/1024,\r\n",
                "    InternalObjectsGB   = SUM(fsu.internal_object_reserved_page_count)*8.0/1024/1024,\r\n",
                "    UnallocatedGB       = SUM(fsu.unallocated_extent_page_count)      *8.0/1024/1024,\r\n",
                "    MixedExtentsGB      = SUM(fsu.mixed_extent_page_count)            *8.0/1024/1024\r\n",
                "FROM sys.dm_db_file_space_usage AS fsu;"
            ],
            "metadata": {
                "azdata_cell_guid": "04f85db4-cb47-40f2-8821-b00289160f75",
                "tags": [
                    "hide_input"
                ]
            },
            "outputs": [],
            "execution_count": null
        },
        {
            "cell_type": "markdown",
            "source": [
                "### Check VLFs\r\n",
                "\r\n",
                "The Redo / DB Startup process can be slowed down by an excessive number of [VLFs](https://www.sqlskills.com/blogs/kimberly/transaction-log-vlfs-too-many-or-too-few/).\r\n",
                "\r\n",
                "If a database has more than 1000 VLFs, consider an action item to reduce the number of VLFs. However, you will not be able to fix the VLF count while AG latency is high.\r\n",
                "\r\n",
                " ▶ Run this on **PRIMARY**"
            ],
            "metadata": {
                "azdata_cell_guid": "6a9021d9-49fd-4db8-827a-deb089aedfd8"
            }
        },
        {
            "cell_type": "code",
            "source": [
                "-- ▶ Run this on **PRIMARY**\r\n",
                "\r\n",
                "SET NOCOUNT ON;\r\n",
                "SET TRANSACTION ISOLATION LEVEL READ UNCOMMITTED;\r\n",
                "\r\n",
                "SELECT\r\n",
                "\tDbName\t\t= d.name,\r\n",
                "\tAverageVlfMb = AVG(dli.vlf_size_mb),\r\n",
                "\tLargestVlfMb = MAX(dli.vlf_size_mb),\r\n",
                "\tVlfCount    = COUNT(*)\r\n",
                "FROM sys.databases AS d\r\n",
                "CROSS APPLY sys.dm_db_log_info(d.database_id) AS dli\r\n",
                "GROUP BY d.name\r\n",
                "ORDER BY COUNT(*) DESC;"
            ],
            "metadata": {
                "azdata_cell_guid": "58fd68e7-552f-4ec9-a4a6-caf54aac83fd",
                "tags": [
                    "hide_input"
                ]
            },
            "outputs": [],
            "execution_count": null
        },
        {
            "cell_type": "markdown",
            "source": [
                "### Check which DBs (if any) have parallel redo\r\n",
                "\r\n",
                "Redo is usually single-threaded. SQL Server does support parallel redo, but only for a small number of databases. If this AG has many databases, only a few will benefit from parallel redo. Controlling which DBs will benefit from parallel redo is difficult (practically impossible), so generally assume that any given database will only have single-threaded redo.\r\n",
                "\r\n",
                " ▶ Run this on **SECONDARY**"
            ],
            "metadata": {
                "azdata_cell_guid": "7f1ab707-9911-4519-b9f0-996b0c6682a3"
            }
        },
        {
            "cell_type": "code",
            "source": [
                "-- ▶ Run this on **SECONDARY**\r\n",
                "\r\n",
                "SET NOCOUNT ON;\r\n",
                "SET TRANSACTION ISOLATION LEVEL READ UNCOMMITTED;\r\n",
                "\r\n",
                "SELECT DbName\t\t= db_name(r.database_id),\r\n",
                "       RedoThreads\t= COUNT(*)\r\n",
                "FROM sys.dm_exec_requests AS r\r\n",
                "WHERE r.command = 'DB STARTUP'\r\n",
                "GROUP BY r.database_id\r\n",
                "ORDER BY COUNT(*) DESC;"
            ],
            "metadata": {
                "azdata_cell_guid": "d7ef27a0-989e-4191-9986-53e003062a0b",
                "tags": [
                    "hide_input"
                ]
            },
            "outputs": [],
            "execution_count": null
        },
        {
            "cell_type": "markdown",
            "source": [
                "Parallel redo can be disabled by enabling Trace Flag 3459. Check if parallel redo has been disabled.\r\n",
                "\r\n",
                " ▶ Run this on **SECONDARY**"
            ],
            "metadata": {
                "azdata_cell_guid": "8259e148-f295-44a5-97b4-7d93bcc99381"
            }
        },
        {
            "cell_type": "code",
            "source": [
                "-- ▶ Run this on **SECONDARY**\r\n",
                "DBCC TRACESTATUS(3459);"
            ],
            "metadata": {
                "azdata_cell_guid": "bbbcee55-5caf-45ad-96ea-c7b8969d0612"
            },
            "outputs": [],
            "execution_count": null
        },
        {
            "cell_type": "markdown",
            "source": [
                "## Further Investigations\r\n",
                "* Check for changes in data volume / data velocity\r\n",
                "  * Was there a recent release?\r\n",
                "  * Did someone just upload a bunch of data?\r\n",
                "  * You could estimate changes in data velocity by looking at the size of historical transaction log backups\r\n",
                "  * A significant increase in data velocity will contribute to both send and redo latencies\r\n",
                "* Check for IO latency on the secondary server\r\n",
                "  * Write latency on the secondary log file will contribute to send latency\r\n",
                "  * Read latency on the secondary log file will contribute to redo latency\r\n",
                "  * Write latency on the secondary log file will contribute to redo latency\r\n",
                "* Check for network latency between servers\r\n",
                "  * Network latency will contribute to send latency"
            ],
            "metadata": {
                "azdata_cell_guid": "e840edde-3e98-4e84-8b02-798b6832921a"
            }
        },
        {
            "cell_type": "markdown",
            "source": [
                "## Possible Actions\r\n",
                "* DO NOT RESTART THE SECONDARY SERVER UNLESS ALL OPTIONS HAVE BEEN EXHAUSTED\r\n",
                "  * Restarting a secondary replica will force the existing log file to be processed via crash recovery before the Db is available for continued participation in the Availability Group. \r\n",
                "  * Send Queue will build for the duration of the crash recovery processing.\r\n",
                "* If send queue is large for a DB, look for a low send rate\r\n",
                "  * If the send rate is low, do you have network issues?\r\n",
                "    * If the network allows, can you copy a file between the two servers?\r\n",
                "  * Turn it off & turn it back on again\r\n",
                "    * Restart the AG Endpoints\r\n",
                "  * Look for long running SELECT queries\r\n",
                "    * You may need to kill excessively long queries\r\n",
                "  * Look for long running transactions\r\n",
                "    * You may need to kill, or get the user to commit. _*WARNING*: Killing long running data changes can result in excessive rollback._\r\n",
                "* If redo queue is large for a DB, look for low redo rate\r\n",
                "  * Look for long running SELECT queries\r\n",
                "    * You may need to kill excessively long queries\r\n",
                "  * Look for long running transactions\r\n",
                "    * You may need to kill, or get the user to commit. _*WARNING*: Killing long running data changes can result in excessive rollback._\r\n",
                "  * Look for IO latency on the SECONDARY\r\n",
                "    * Look for READ latency on the LOG FILE\r\n",
                "    * Look for WRITE latency on the DATA FILE\r\n",
                "    * Note: Read latency on Log, write latency on Data file is backwards from what you might expect"
            ],
            "metadata": {
                "azdata_cell_guid": "f141f181-d21f-4ab3-88f3-0b37f1e91cab"
            }
        },
        {
            "cell_type": "markdown",
            "source": [
                "### Sources\r\n",
                "* [Troubleshooting data movement latency between synchronous-commit AlwaysOn Availability Groups](https://techcommunity.microsoft.com/t5/sql-server-support/troubleshooting-data-movement-latency-between-synchronous-commit/ba-p/319141) - Simon Su, Microsoft\r\n",
                "* [Monitoring Availability Group Replica Synchronization](https://sqlperformance.com/2015/08/monitoring/availability-group-replica-sync) - Jonathan Kehayias, SQLSkills\r\n",
                "* [Measuring Availability Group synchronization lag](https://www.sqlshack.com/measuring-availability-group-synchronization-lag/) - Derik Hammer\r\n",
                "* [Long Running Query on Read-Only Replica that takes moments on the Primary](https://dba.stackexchange.com/q/237671/52344) - Stack Overflow question & answers\r\n",
                "* [What the heck is the Version Store?](https://am2.co/2019/10/what-the-heck-is-the-sql-server-version-store/) - Andy Mallon\r\n",
                "* [Tempdb Version Store cleanup](https://dba.stackexchange.com/a/55037/52344) - Paul White\r\n",
                "* [DBA Database](https://github.com/amtwo/dba-database) - Andy Mallon\r\n",
                "* [sp_WhoIsActive documentation](http://whoisactive.com/docs/) - Adam Machanic\r\n",
                "* [sys.dm_db_file_space_usage](https://docs.microsoft.com/en-us/sql/relational-databases/system-dynamic-management-views/sys-dm-db-file-space-usage-transact-sql) - Microsoft Docs"
            ],
            "metadata": {
                "azdata_cell_guid": "899521c4-f799-4093-adad-b6a027b0b912"
            }
        }
    ]
}
